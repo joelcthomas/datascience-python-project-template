{
 "cells": [
  {
   "cell_type": "code",
   "execution_count": 11,
   "metadata": {},
   "outputs": [],
   "source": [
    "from pyspark.sql import SparkSession\n",
    "spark = SparkSession.builder.getOrCreate()"
   ]
  },
  {
   "cell_type": "code",
   "execution_count": 12,
   "metadata": {},
   "outputs": [],
   "source": [
    "data = spark.read.format(\"csv\").option(\"header\", \"true\").load(\"/mnt/joel/covid-us-county\")"
   ]
  },
  {
   "cell_type": "code",
   "execution_count": 13,
   "metadata": {},
   "outputs": [
    {
     "output_type": "execute_result",
     "data": {
      "text/plain": "  fips county           state      lat      long        date cases state_code  \\\n0   60     NA  American Samoa  -14.271  -170.132  2020-01-22     0         NA   \n1   60     NA  American Samoa  -14.271  -170.132  2020-01-23     0         NA   \n2   60     NA  American Samoa  -14.271  -170.132  2020-01-24     0         NA   \n3   60     NA  American Samoa  -14.271  -170.132  2020-01-25     0         NA   \n4   60     NA  American Samoa  -14.271  -170.132  2020-01-26     0         NA   \n5   60     NA  American Samoa  -14.271  -170.132  2020-01-27     0         NA   \n6   60     NA  American Samoa  -14.271  -170.132  2020-01-28     0         NA   \n7   60     NA  American Samoa  -14.271  -170.132  2020-01-29     0         NA   \n8   60     NA  American Samoa  -14.271  -170.132  2020-01-30     0         NA   \n9   60     NA  American Samoa  -14.271  -170.132  2020-01-31     0         NA   \n\n  deaths  \n0      0  \n1      0  \n2      0  \n3      0  \n4      0  \n5      0  \n6      0  \n7      0  \n8      0  \n9      0  ",
      "text/html": "<div>\n<style scoped>\n    .dataframe tbody tr th:only-of-type {\n        vertical-align: middle;\n    }\n\n    .dataframe tbody tr th {\n        vertical-align: top;\n    }\n\n    .dataframe thead th {\n        text-align: right;\n    }\n</style>\n<table border=\"1\" class=\"dataframe\">\n  <thead>\n    <tr style=\"text-align: right;\">\n      <th></th>\n      <th>fips</th>\n      <th>county</th>\n      <th>state</th>\n      <th>lat</th>\n      <th>long</th>\n      <th>date</th>\n      <th>cases</th>\n      <th>state_code</th>\n      <th>deaths</th>\n    </tr>\n  </thead>\n  <tbody>\n    <tr>\n      <th>0</th>\n      <td>60</td>\n      <td>NA</td>\n      <td>American Samoa</td>\n      <td>-14.271</td>\n      <td>-170.132</td>\n      <td>2020-01-22</td>\n      <td>0</td>\n      <td>NA</td>\n      <td>0</td>\n    </tr>\n    <tr>\n      <th>1</th>\n      <td>60</td>\n      <td>NA</td>\n      <td>American Samoa</td>\n      <td>-14.271</td>\n      <td>-170.132</td>\n      <td>2020-01-23</td>\n      <td>0</td>\n      <td>NA</td>\n      <td>0</td>\n    </tr>\n    <tr>\n      <th>2</th>\n      <td>60</td>\n      <td>NA</td>\n      <td>American Samoa</td>\n      <td>-14.271</td>\n      <td>-170.132</td>\n      <td>2020-01-24</td>\n      <td>0</td>\n      <td>NA</td>\n      <td>0</td>\n    </tr>\n    <tr>\n      <th>3</th>\n      <td>60</td>\n      <td>NA</td>\n      <td>American Samoa</td>\n      <td>-14.271</td>\n      <td>-170.132</td>\n      <td>2020-01-25</td>\n      <td>0</td>\n      <td>NA</td>\n      <td>0</td>\n    </tr>\n    <tr>\n      <th>4</th>\n      <td>60</td>\n      <td>NA</td>\n      <td>American Samoa</td>\n      <td>-14.271</td>\n      <td>-170.132</td>\n      <td>2020-01-26</td>\n      <td>0</td>\n      <td>NA</td>\n      <td>0</td>\n    </tr>\n    <tr>\n      <th>5</th>\n      <td>60</td>\n      <td>NA</td>\n      <td>American Samoa</td>\n      <td>-14.271</td>\n      <td>-170.132</td>\n      <td>2020-01-27</td>\n      <td>0</td>\n      <td>NA</td>\n      <td>0</td>\n    </tr>\n    <tr>\n      <th>6</th>\n      <td>60</td>\n      <td>NA</td>\n      <td>American Samoa</td>\n      <td>-14.271</td>\n      <td>-170.132</td>\n      <td>2020-01-28</td>\n      <td>0</td>\n      <td>NA</td>\n      <td>0</td>\n    </tr>\n    <tr>\n      <th>7</th>\n      <td>60</td>\n      <td>NA</td>\n      <td>American Samoa</td>\n      <td>-14.271</td>\n      <td>-170.132</td>\n      <td>2020-01-29</td>\n      <td>0</td>\n      <td>NA</td>\n      <td>0</td>\n    </tr>\n    <tr>\n      <th>8</th>\n      <td>60</td>\n      <td>NA</td>\n      <td>American Samoa</td>\n      <td>-14.271</td>\n      <td>-170.132</td>\n      <td>2020-01-30</td>\n      <td>0</td>\n      <td>NA</td>\n      <td>0</td>\n    </tr>\n    <tr>\n      <th>9</th>\n      <td>60</td>\n      <td>NA</td>\n      <td>American Samoa</td>\n      <td>-14.271</td>\n      <td>-170.132</td>\n      <td>2020-01-31</td>\n      <td>0</td>\n      <td>NA</td>\n      <td>0</td>\n    </tr>\n  </tbody>\n</table>\n</div>"
     },
     "metadata": {},
     "execution_count": 13
    }
   ],
   "source": [
    "data.limit(10).toPandas()"
   ]
  },
  {
   "cell_type": "code",
   "execution_count": 14,
   "metadata": {},
   "outputs": [],
   "source": [
    "summary = data.describe().toPandas().set_index(\"summary\").transpose()"
   ]
  },
  {
   "cell_type": "code",
   "execution_count": 15,
   "metadata": {
    "tags": []
   },
   "outputs": [
    {
     "output_type": "stream",
     "name": "stdout",
     "text": "summary      count                mean              stddev           min  \\\nfips        472845  32090.929560135344   17822.43038156937         10001   \ncounty      472845                None                None     Abbeville   \nstate       472845                None                None       Alabama   \nlat         472845   37.16590280583528   8.661136246041597       -14.271   \nlong        472845  -89.16037523030538  21.543757258895052  -100.0307514   \ndate        472845                None                None    2020-01-22   \ncases       472845  197.52325180555997   2565.511604838583             0   \nstate_code  472845                None                None            AK   \ndeaths      472845  11.220120758388056  241.09450721139822             0   \n\nsummary             max  \nfips                 NA  \ncounty          Ziebach  \nstate           Wyoming  \nlat         69.31479216  \nlong           145.6739  \ndate         2020-06-14  \ncases               999  \nstate_code           WY  \ndeaths              999  \n"
    }
   ],
   "source": [
    "print(summary)"
   ]
  },
  {
   "cell_type": "code",
   "execution_count": null,
   "metadata": {},
   "outputs": [],
   "source": []
  }
 ],
 "metadata": {
  "language_info": {
   "codemirror_mode": {
    "name": "ipython",
    "version": 3
   },
   "file_extension": ".py",
   "mimetype": "text/x-python",
   "name": "python",
   "nbconvert_exporter": "python",
   "pygments_lexer": "ipython3",
   "version": "3.7.7-final"
  },
  "orig_nbformat": 2,
  "kernelspec": {
   "name": "python37764bitcovidcountyconda84196584299949a0b82ae4d74cd09161",
   "display_name": "Python 3.7.7 64-bit ('covid_county': conda)"
  }
 },
 "nbformat": 4,
 "nbformat_minor": 2
}